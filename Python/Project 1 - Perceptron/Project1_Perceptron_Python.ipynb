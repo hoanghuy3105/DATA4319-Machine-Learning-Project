{
 "cells": [
  {
   "cell_type": "markdown",
   "metadata": {
    "_cell_guid": "2ed4ea91-bf49-4662-9a8e-da414e66bd65",
    "_uuid": "b5a18c95d655ec717d8aec7b4dfbad023a611a76"
   },
   "source": [
    "# Project 1: Perceptron with Python "
   ]
  },
  {
   "cell_type": "markdown",
   "metadata": {},
   "source": [
    "## Huy Huynh"
   ]
  },
  {
   "cell_type": "markdown",
   "metadata": {},
   "source": [
    "## DATA 4319"
   ]
  },
  {
   "cell_type": "markdown",
   "metadata": {},
   "source": [
    "A Perceptron is an algorithm for supervised learning of binary classifiers. This algorithm enables neurons to learn and processes elements in the training set one at a time."
   ]
  },
  {
   "cell_type": "markdown",
   "metadata": {},
   "source": [
    "There are two types of Perceptrons: Single layer and Multilayer.\n",
    "\n",
    "- Single layer Perceptrons can learn only linearly separable patterns.\n",
    "\n",
    "- Multilayer Perceptrons or feedforward neural networks with two or more layers have the greater processing power.\n",
    "    "
   ]
  },
  {
   "cell_type": "markdown",
   "metadata": {},
   "source": [
    "The simplest neural network is one layer neural network (yeah, there are layers, like onions…). There are four components of the perceptron shown below:\n",
    "\n",
    "- Input layers (X, Y, bias) and output\n",
    "- Weights (w0, w1, w2)\n",
    "- Weighted sum equation\n",
    "- Activation function (sigmoid in this case)"
   ]
  },
  {
   "cell_type": "markdown",
   "metadata": {},
   "source": [
    "The Perceptron algorithm learns the weights for the input signals in order to draw a linear decision boundary."
   ]
  },
  {
   "cell_type": "markdown",
   "metadata": {},
   "source": [
    "![1](https://www.cs.utexas.edu/~teammco/misc/perceptron/perceptron.png)"
   ]
  },
  {
   "cell_type": "markdown",
   "metadata": {},
   "source": [
    "# Project #"
   ]
  },
  {
   "cell_type": "code",
   "execution_count": 8,
   "metadata": {
    "_cell_guid": "09417810-3182-4cfb-b868-935fa553da56",
    "_uuid": "e3cd05d62d957bd20912d77e814ae1dc48caac56"
   },
   "outputs": [],
   "source": [
    "%matplotlib inline"
   ]
  },
  {
   "cell_type": "code",
   "execution_count": 11,
   "metadata": {
    "_cell_guid": "e32c775a-535f-40ed-bc4d-a606b7d94555",
    "_uuid": "f3d7909fa8e7e127853b0be31d4bb5c31f0377d3"
   },
   "outputs": [
    {
     "name": "stdout",
     "output_type": "stream",
     "text": [
      "Training set has 42000 rows and 785 columns\n",
      "Test set has 28000 rows and 784 columns\n"
     ]
    }
   ],
   "source": [
    "import pandas as pd\n",
    "import numpy as np\n",
    "import matplotlib.pyplot as plt\n",
    "\n",
    "# Load Data\n",
    "train = pd.read_csv(\"Dataset/train.csv\")\n",
    "test  = pd.read_csv(\"Dataset/test.csv\")\n",
    "\n",
    "# Get some information about the data:\n",
    "print(\"Training set has {0[0]} rows and {0[1]} columns\".format(train.shape))\n",
    "print(\"Test set has {0[0]} rows and {0[1]} columns\".format(test.shape))\n",
    "\n"
   ]
  },
  {
   "cell_type": "markdown",
   "metadata": {
    "_cell_guid": "cb261508-50c1-42d3-aaf8-70b02879642b",
    "_uuid": "24dd418ad1886e2615496e575044952acdb9d864"
   },
   "source": [
    "# Data\n",
    "After loading the data, store it in the following format:\n",
    "\n",
    "**Labels** (vector of length 42000)\n",
    "\n",
    "**Training Data** (matrix of shape 42000,784; the labels are sliced off)\n",
    "\n",
    "Each handwritten digit used for training is stored as a row in a matrix. \n",
    "Each row is 784 points long; this represents\n",
    "pixel intensities of an image which is 28 by 28 pixels. The row must be reshaped in order to visualize it.\n",
    "\n",
    "**Weights** (list of vectors, one vector for each class. 10 by 784)\n",
    "\n",
    "Each weight vector is the same length as a handwritten digit vector. "
   ]
  },
  {
   "cell_type": "code",
   "execution_count": 4,
   "metadata": {
    "_cell_guid": "7eeb0a58-1e03-4e85-86de-b454117f9916",
    "_uuid": "d9d47fb7c3d308c29d99e1fed1d3a0714b3b983c"
   },
   "outputs": [
    {
     "name": "stdout",
     "output_type": "stream",
     "text": [
      "A sample digit from the dataset:\n",
      "(10, 784)\n"
     ]
    },
    {
     "name": "stderr",
     "output_type": "stream",
     "text": [
      "/opt/anaconda3/lib/python3.7/site-packages/ipykernel_launcher.py:5: FutureWarning: \n",
      ".ix is deprecated. Please use\n",
      ".loc for label based indexing or\n",
      ".iloc for positional indexing\n",
      "\n",
      "See the documentation here:\n",
      "http://pandas.pydata.org/pandas-docs/stable/user_guide/indexing.html#ix-indexer-is-deprecated\n",
      "  \"\"\"\n",
      "/opt/anaconda3/lib/python3.7/site-packages/pandas/core/indexing.py:822: FutureWarning: \n",
      ".ix is deprecated. Please use\n",
      ".loc for label based indexing or\n",
      ".iloc for positional indexing\n",
      "\n",
      "See the documentation here:\n",
      "http://pandas.pydata.org/pandas-docs/stable/user_guide/indexing.html#ix-indexer-is-deprecated\n",
      "  retval = getattr(retval, self.name)._getitem_axis(key, axis=i)\n"
     ]
    },
    {
     "data": {
      "image/png": "[encoded data removed]",
      "text/plain": [
       "<Figure size 432x288 with 1 Axes>"
      ]
     },
     "metadata": {
      "needs_background": "light"
     },
     "output_type": "display_data"
    }
   ],
   "source": [
    "# Store the labels in a vector\n",
    "trainlabels = train.label\n",
    "\n",
    "# Store the data in a matrix (without labels)\n",
    "traindata = np.asmatrix(train.ix[:,'pixel0':])\n",
    "traindata.shape\n",
    "\n",
    "# Visualize a single digit (one row from the training data matrix)\n",
    "samplerow = traindata[3:4]#get one row from training data\n",
    "samplerow = np.reshape(samplerow,(28,28))#reshape it to a 28*28 grid\n",
    "print(\"A sample digit from the dataset:\")\n",
    "plt.imshow(samplerow, cmap=\"hot\")\n",
    "\n",
    "# Initialize the weight matrix (one row per class)\n",
    "weights = np.zeros((10,784))\n",
    "print(weights.shape)"
   ]
  },
  {
   "cell_type": "markdown",
   "metadata": {
    "_cell_guid": "e7215b1f-abbb-45e8-b9ab-2542faed5805",
    "_uuid": "3ce272b113dc671dd59a5df48cc8c9809b49f39e"
   },
   "source": [
    "# Perceptron Learning ( Training )\n",
    "For each handwritten digit in the data set, compare its vector to each of the weight \n",
    "vectors by taking the dot product. \n",
    "\n",
    "The largest resulting dot product is the 'guess'.\n",
    "If the guess is wrong, the incorrect weight vector is updated by subtracting the\n",
    "digit vector and the correct weight vector is updated by adding the digit vector.\n",
    "\n",
    "This routine repeats through the dataset many times (epochs) until the number of wrong guesses\n",
    "begins to stabilize (in this case, 15 epochs. If you were to run 20 epochs, you'd see overfitting)."
   ]
  },
  {
   "cell_type": "code",
   "execution_count": 5,
   "metadata": {
    "_cell_guid": "d299742d-072e-4bee-a4c4-f2e58f4731db",
    "_uuid": "b519e87aaf2844052d7c5690e3165e9c89a58b28"
   },
   "outputs": [
    {
     "data": {
      "text/plain": [
       "[<matplotlib.lines.Line2D at 0x7f9d1443d0d0>]"
      ]
     },
     "execution_count": 5,
     "metadata": {},
     "output_type": "execute_result"
    },
    {
     "data": {
      "image/png": "[encoded data removed]",
      "text/plain": [
       "<Figure size 432x288 with 1 Axes>"
      ]
     },
     "metadata": {
      "needs_background": "light"
     },
     "output_type": "display_data"
    }
   ],
   "source": [
    "# For E epochs, \n",
    "E = 15\n",
    "errors = []\n",
    "for epoch in range(E):\n",
    "    err = 0 #reset the error counter\n",
    "    # For each handwritten digit in training set,\n",
    "    for i, x in enumerate(traindata):\n",
    "        dp=[] #create a new container for the calculated dot products\n",
    "        # For each digit class (0-9)\n",
    "        for w in weights:\n",
    "            dotproduct = np.dot(x,w) #take the dot product of the weight and the data\n",
    "            dp.append(dotproduct) #add the dot product to the list of dot products\n",
    "        guess = np.argmax(dp) #take the largest dot product and make that the guessed digit class\n",
    "        actual = trainlabels[i]\n",
    "        # If the guess was wrong, update the weight vectors\n",
    "        if guess != actual:\n",
    "            weights[guess] = weights[guess] - x #update the incorrect (guessed) weight vector\n",
    "            weights[actual] = weights[actual] + x #update the correct weight vector\n",
    "            err += 1\n",
    "    errors.append(err/42000) #track the error after each pass through the training set\n",
    "plt.plot(list(range(0,E)),errors) #plot the error after all training epochs"
   ]
  },
  {
   "cell_type": "markdown",
   "metadata": {
    "_cell_guid": "f61927e2-2c87-4d20-a7dd-09c26bb3f761",
    "_uuid": "24ca51d1352a244720c1418975d5f77127807818"
   },
   "source": [
    "# Perceptron Testing\n",
    "Create a csv file to upload as submission."
   ]
  },
  {
   "cell_type": "code",
   "execution_count": 6,
   "metadata": {
    "_cell_guid": "488fcea8-9513-4bd1-b60e-e78d7748c8e7",
    "_uuid": "236f85d37015920c3b107d9a9012736e93b3d6d4"
   },
   "outputs": [],
   "source": [
    "testdata = np.asmatrix(test)\n",
    "guesses = []\n",
    "for i, z in enumerate(testdata):\n",
    "    dp=[] #create a new container for the calculated dot products\n",
    "    # For each digit class (0-9)\n",
    "    for w in weights:\n",
    "        dotproduct = np.dot(z,w) #take the dot product of the weight and the data\n",
    "        dp.append(dotproduct) #add the dot product to the list of dot products\n",
    "    guess = np.argmax(dp) #take the largest dot product and make that the guessed digit class\n",
    "    guesses.append(guess)"
   ]
  },
  {
   "cell_type": "code",
   "execution_count": 7,
   "metadata": {
    "_cell_guid": "253fc53e-690f-4cb1-97b0-71c75fef4632",
    "_uuid": "6715cefa6dd326b22e62ae818eb12e07d64e1c3f"
   },
   "outputs": [
    {
     "name": "stdout",
     "output_type": "stream",
     "text": [
      "28001\n"
     ]
    }
   ],
   "source": [
    "f = open('percep1.csv', 'w')\n",
    "i = 1\n",
    "f.write('ImageId,Label\\n')\n",
    "for g in guesses:\n",
    "    foo = str(i) + ',' + str(g) + '\\n'\n",
    "    f.write(foo)\n",
    "    i += 1\n",
    "f.close()\n",
    "print(i)"
   ]
  },
  {
   "cell_type": "code",
   "execution_count": null,
   "metadata": {},
   "outputs": [],
   "source": []
  },
  {
   "cell_type": "code",
   "execution_count": null,
   "metadata": {},
   "outputs": [],
   "source": []
  }
 ],
 "metadata": {
  "kernelspec": {
   "display_name": "Python 3",
   "language": "python",
   "name": "python3"
  },
  "language_info": {
   "codemirror_mode": {
    "name": "ipython",
    "version": 3
   },
   "file_extension": ".py",
   "mimetype": "text/x-python",
   "name": "python",
   "nbconvert_exporter": "python",
   "pygments_lexer": "ipython3",
   "version": "3.7.4"
  }
 },
 "nbformat": 4,
 "nbformat_minor": 1
}
