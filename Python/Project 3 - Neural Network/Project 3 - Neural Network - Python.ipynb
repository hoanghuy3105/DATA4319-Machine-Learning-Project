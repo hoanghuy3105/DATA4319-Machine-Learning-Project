{
 "cells": [
  {
   "cell_type": "markdown",
   "metadata": {},
   "source": [
    "# Project - 3: Neural NetWork in Python"
   ]
  },
  {
   "cell_type": "markdown",
   "metadata": {},
   "source": [
    "# Huy Huynh"
   ]
  },
  {
   "cell_type": "markdown",
   "metadata": {},
   "source": [
    "# DATA 4319"
   ]
  },
  {
   "cell_type": "markdown",
   "metadata": {},
   "source": [
    "A neural network is an oriented graph. It consists of nodes which in the biological analogy represent neurons, connected by arcs. It corresponds to dendrites and synapses. Each arc associated with a weight while at each node. Apply the values received as input by the node and define Activation function along the incoming arcs, adjusted by the weights of the arcs.\n",
    "\n",
    "A neural network is a machine learning algorithm based on the model of a human neuron. The human brain consists of millions of neurons. It sends and process signals in the form of electrical and chemical signals. These neurons are connected with a special structure known as synapses. Synapses allow neurons to pass signals. From large numbers of simulated neurons neural networks forms."
   ]
  },
  {
   "cell_type": "markdown",
   "metadata": {},
   "source": [
    "![1](https://data-flair.training/blogs/wp-content/uploads/sites/2/2019/07/Introduction-to-Artificial-Neural-Networks.jpg)"
   ]
  },
  {
   "cell_type": "markdown",
   "metadata": {},
   "source": [
    "Neural networks find great application in data mining used in sectors. For example economics, forensics, etc and for pattern recognition. It can be also used for data classification in a large amount of data after careful training.\n",
    "\n",
    "A neural network may contain the following 3 layers:\n",
    "\n",
    "   - Input layer – The activity of the input units represents the raw information that can feed into the network.\n",
    "   - Hidden layer – To determine the activity of each hidden unit. The activities of the input units and the weights on the connections between the input and the hidden units. There may be one or more hidden layers.\n",
    "   - Output layer – The behavior of the output units depends on the activity of the hidden units and the weights between the hidden and output units"
   ]
  },
  {
   "cell_type": "code",
   "execution_count": 1,
   "metadata": {
    "executionInfo": {
     "elapsed": 389,
     "status": "ok",
     "timestamp": 1606675488802,
     "user": {
      "displayName": "Nguyen tuan anh",
      "photoUrl": "",
      "userId": "09926655917568751670"
     },
     "user_tz": 360
    },
    "id": "84TTxg1zhGC7"
   },
   "outputs": [],
   "source": [
    "import numpy as np\n",
    "import math\n",
    "import matplotlib\n",
    "import matplotlib.pyplot as plt\n",
    "import cv2\n",
    "import os\n",
    "from PIL import Image"
   ]
  },
  {
   "cell_type": "code",
   "execution_count": 2,
   "metadata": {
    "executionInfo": {
     "elapsed": 290,
     "status": "ok",
     "timestamp": 1606662041829,
     "user": {
      "displayName": "Nguyen tuan anh",
      "photoUrl": "",
      "userId": "09926655917568751670"
     },
     "user_tz": 360
    },
    "id": "urQjSi9thGC8"
   },
   "outputs": [],
   "source": [
    "def initialize_parameters_he(layer_dims):\n",
    "    parameters = {}\n",
    "    num_layers = len(layer_dims)\n",
    "\n",
    "    for l in range(1, num_layers):\n",
    "        parameters['W' + str(l)] = np.random.randn(layer_dims[l],layer_dims[l-1])*np.sqrt(1/layer_dims[l - 1])\n",
    "        parameters['b' + str(l)] = np.zeros((layer_dims[l],1)) * np.sqrt(1. /layer_dims[l - 1])\n",
    "    \n",
    "    return parameters\n",
    "\n",
    "def initialize_velocity_momentum(parameters):\n",
    "    v = {}\n",
    "    \n",
    "    num_layers = len(parameters) // 2  \n",
    "\n",
    "    for i in range(1, num_layers + 1):\n",
    "        v[\"dw\" + str(i)] = np.zeros((parameters[\"W\" + str(i)].shape[0], parameters[\"W\" + str(i)].shape[1]))\n",
    "        v[\"db\" + str(i)] = np.zeros((parameters[\"b\" + str(i)].shape[0], parameters[\"b\" + str(i)].shape[1]))\n",
    "        \n",
    "\n",
    "    return v\n",
    "\n",
    "def linear_forward(a, w, b):\n",
    "    z = np.dot(w,a) + b\n",
    "    cache = (a, w, b)\n",
    "\n",
    "    return z, cache\n",
    "\n",
    "def sigmoid(z):\n",
    "    a = 1/(1 + np.exp(-1*z))\n",
    "    activation_cache = {\"Z\": z}\n",
    "\n",
    "    return a, activation_cache\n",
    "\n",
    "def linear_activation_forward(a_prev, w, b):\n",
    "\n",
    "    z, linear_cache = linear_forward(a_prev, w, b)\n",
    "    a, activation_cache = sigmoid(z)\n",
    "\n",
    "    cache = (linear_cache, activation_cache)\n",
    "\n",
    "    return a, cache\n",
    "\n",
    "def L_model_forward(x, parameters):\n",
    "    cache_main = []\n",
    "    a = x\n",
    "    num_layers = len(parameters) // 2\n",
    "\n",
    "    for l in range(1,num_layers+1):\n",
    "        a_prev = a\n",
    "        a, cache_temp = linear_activation_forward(a_prev, parameters[\"W\" + str(l)],parameters[\"b\" + str(l)])\n",
    "        cache_main.append(cache_temp)\n",
    "\n",
    "    return a, cache_main\n",
    "\n",
    "def compute_cost_with_L2(al, y, parameters, lambd):\n",
    "\n",
    "    m = y.shape[1]  \n",
    "    parameters_sum = []\n",
    "    num_layers = len(parameters) // 2\n",
    "\n",
    "    cross_entropy_cost = (-1/m)*( np.sum( y*np.log(al) ) + np.sum( (1 - y)*np.log(1 - al) ) )\n",
    "\n",
    "    return cross_entropy_cost\n",
    "\n",
    "\n",
    "def compute_cost(al, y, parameters, lambd):\n",
    "    cost = compute_cost_with_L2(al, y, parameters, lambd)\n",
    "    return cost\n",
    "\n",
    "def sigmoid_backward(da, activation_cache):\n",
    "    # Since dz = da * g'(z)\n",
    "    z = activation_cache[\"Z\"]\n",
    "    a = 1/(1 + np.exp(-1 * z))\n",
    "    \n",
    "    dz = np.multiply(da, a*(1 - a))\n",
    "    return dz\n",
    "\n",
    "def linear_backward(dz, cache, lambd):\n",
    "\n",
    "    a_prev, w, b = cache\n",
    "    m = a_prev.shape[1]\n",
    "\n",
    "    dw = (1/m)*(np.dot(dz,a_prev.T)) + (lambd/m)*w\n",
    "    db = (1/m)*(np.sum(dz, axis = 1, keepdims = True))\n",
    "    da_prev = np.dot(w.T,dz)\n",
    "\n",
    "    return da_prev, dw, db\n",
    "\n",
    "def linear_activation_backward(da, cache, lambd):\n",
    "\n",
    "    linear_cache, activation_cache = cache\n",
    "\n",
    "    dz = sigmoid_backward(da, activation_cache)\n",
    "    da_prev, dw, db = linear_backward(dz, linear_cache, lambd)\n",
    "        \n",
    "    return da_prev, dw, db\n",
    "\n",
    "def L_model_backward(al, y, caches, lambd):\n",
    "    grads = {}\n",
    "    num_layers = len(caches)\n",
    "\n",
    "    m = al.shape[1]\n",
    "    y = y.reshape(al.shape)\n",
    "\n",
    "    dal = - (np.divide(y, al) - np.divide(1 - y, 1 - al))\n",
    "\n",
    "    current_cache = caches[num_layers - 1]\n",
    "    linear_cache, activation_cache = current_cache\n",
    "\n",
    "    grads[\"dA\" + str(num_layers)], grads[\"dW\" + str(num_layers)], grads[\"db\" + str(num_layers)] =linear_activation_backward(dal, current_cache, lambd)\n",
    "\n",
    "    for l in reversed(range(num_layers - 1)):\n",
    "        current_cache = caches[l]\n",
    "\n",
    "        da_prev_temp, dw_temp, db_temp = linear_activation_backward(grads[\"dA\" + str(l + 2)], current_cache,lambd)\n",
    "\n",
    "        grads[\"dA\" + str(l + 1)] = da_prev_temp\n",
    "        grads[\"dW\" + str(l + 1)] = dw_temp\n",
    "        grads[\"db\" + str(l + 1)] = db_temp\n",
    "\n",
    "    return grads\n",
    "\n",
    "def update_parameters_with_momentum(parameters, grads, learning_rate, v, beta):\n",
    "    num_layers = len(parameters) // 2\n",
    "\n",
    "    for l in range(1, num_layers + 1):\n",
    "        v[\"dw\" + str(l)] = beta*v[\"dw\" + str(l)] + (1 - beta)*grads[\"dW\" + str(l)]\n",
    "        v[\"db\" + str(l)] = beta*v[\"db\" + str(l)] + (1 - beta)*grads[\"db\" + str(l)]\n",
    "        parameters[\"W\" + str(l)] -= (learning_rate * v[\"dw\" + str(l)])\n",
    "        parameters[\"b\" + str(l)] -= (learning_rate * v[\"db\" + str(l)])\n",
    "\n",
    "    return parameters, v"
   ]
  },
  {
   "cell_type": "code",
   "execution_count": 3,
   "metadata": {
    "executionInfo": {
     "elapsed": 354,
     "status": "ok",
     "timestamp": 1606662043312,
     "user": {
      "displayName": "Nguyen tuan anh",
      "photoUrl": "",
      "userId": "09926655917568751670"
     },
     "user_tz": 360
    },
    "id": "H0cPqAvqhGC8"
   },
   "outputs": [],
   "source": [
    "def random_mini_batches(x, y, mini_batch_size = 128, seed = 0):\n",
    "    np.random.seed(seed)\n",
    "\n",
    "    m = x.shape[1]  \n",
    "    mini_batches = []\n",
    "    permutation = list(np.random.permutation(m))\n",
    "    shuffled_x = x[ :, permutation]\n",
    "    shuffled_y = y[ :, permutation]\n",
    "\n",
    "    batches =  -(-m // mini_batch_size)\n",
    "    for j in range(batches):\n",
    "\n",
    "        begin = j * mini_batch_size\n",
    "        end = min(begin + mini_batch_size, X_train.shape[1] - 1)\n",
    "        mini_batch_x = shuffled_x[:, begin:end]\n",
    "        mini_batch_y = shuffled_y[:, begin:end]\n",
    "        mini_batch = (mini_batch_x, mini_batch_y)\n",
    "        mini_batches.append(mini_batch)\n",
    "\n",
    "    return mini_batches"
   ]
  },
  {
   "cell_type": "code",
   "execution_count": 64,
   "metadata": {
    "executionInfo": {
     "elapsed": 338,
     "status": "ok",
     "timestamp": 1606669931549,
     "user": {
      "displayName": "Nguyen tuan anh",
      "photoUrl": "",
      "userId": "09926655917568751670"
     },
     "user_tz": 360
    },
    "id": "un0hlr62hGC8"
   },
   "outputs": [],
   "source": [
    "from sklearn.metrics import confusion_matrix\n",
    "from sklearn.metrics import accuracy_score\n",
    "import seaborn as sns\n",
    "\n",
    "def predict_train_accuracy(train_x, train_y, parameters):\n",
    "    al = L_model_forward(train_x, parameters)[0]\n",
    "    \n",
    "    predictions = np.argmax(al, axis=0)\n",
    "    labels = np.argmax(train_y, axis=0)\n",
    "\n",
    "    #print(classification_report(predictions, labels))\n",
    "    return accuracy_score(labels,predictions)\n",
    "\n",
    "def show_confuse_matrix(train_x, train_y, parameters):\n",
    "    al = L_model_forward(train_x, parameters)[0]\n",
    "    \n",
    "    predictions = np.argmax(al, axis=0)\n",
    "    labels = np.argmax(train_y, axis=0)\n",
    "\n",
    "    cf_matrix = confusion_matrix(predictions, labels)\n",
    "    #print(cf_matrix) \n",
    "    \n",
    "    plt.figure(figsize=(10, 6))\n",
    "    \n",
    "    ax= sns.heatmap(cf_matrix, annot=True,cmap=\"OrRd\",fmt='',) #fix bug display confusion matrix\n",
    "    ax.set_ylim(10.0, 0)\n",
    "    plt.title('Confusion Matrix', fontsize = 20) \n",
    "    plt.xlabel('Predicted Label', fontsize = 15) \n",
    "    plt.ylabel('True Label', fontsize = 15) "
   ]
  },
  {
   "cell_type": "code",
   "execution_count": 18,
   "metadata": {
    "executionInfo": {
     "elapsed": 285,
     "status": "ok",
     "timestamp": 1606665366829,
     "user": {
      "displayName": "Nguyen tuan anh",
      "photoUrl": "",
      "userId": "09926655917568751670"
     },
     "user_tz": 360
    },
    "id": "Lld7cakIhGC8"
   },
   "outputs": [],
   "source": [
    "def L_layer_model(x, y, layer_dims, learning_rate, epochs, print_cost, batch_size):\n",
    "    costs = []\n",
    "    seed = 10\n",
    "    lambd = 0.3  # regularization parameter\n",
    "\n",
    "    parameters = initialize_parameters_he(layer_dims)\n",
    "    v = initialize_velocity_momentum(parameters)\n",
    "\n",
    "    for i in range(1, epochs+1):\n",
    "        seed += 1\n",
    "        minibatches = random_mini_batches(x, y, batch_size, seed)\n",
    "        for minibatch in minibatches:\n",
    "            minibatch_x, minibatch_y = minibatch\n",
    "\n",
    "            # A single forward pass\n",
    "            al, caches = L_model_forward(minibatch_x, parameters)\n",
    "\n",
    "            # Cost computing\n",
    "            cost = compute_cost(al, minibatch_y, parameters, lambd)\n",
    "\n",
    "            # Backward Pass\n",
    "            grads = L_model_backward(al, minibatch_y, caches, lambd)\n",
    "\n",
    "            # Update parameters\n",
    "            parameters, v = update_parameters_with_momentum(parameters, grads, learning_rate, v, 0.9)\n",
    "\n",
    "        if print_cost and i % 10 is 0:\n",
    "            print(\"accuracy score after epoch %i: %f\" % (i, predict_train_accuracy(x, y, parameters)))\n",
    "            print(\"=============\")\n",
    "    \n",
    "\n",
    "    return parameters"
   ]
  },
  {
   "cell_type": "code",
   "execution_count": 6,
   "metadata": {
    "executionInfo": {
     "elapsed": 32516,
     "status": "ok",
     "timestamp": 1606665402096,
     "user": {
      "displayName": "Nguyen tuan anh",
      "photoUrl": "",
      "userId": "09926655917568751670"
     },
     "user_tz": 360
    },
    "id": "u9Q-cXNVhGC9"
   },
   "outputs": [],
   "source": [
    "from sklearn.datasets import fetch_openml\n",
    "\n",
    "mnist = fetch_openml('mnist_784', version=1)\n",
    "X,y=mnist[\"data\"],mnist[\"target\"]\n",
    "\n",
    "# scale\n",
    "X = X / 255\n",
    "\n",
    "# one-hot encode labels\n",
    "digits = 10\n",
    "examples = y.shape[0]\n",
    "y = y.reshape(1, examples)\n",
    "Y_new = np.eye(digits)[y.astype('int32')]\n",
    "Y_new = Y_new.T.reshape(digits, examples)\n",
    "\n",
    "# split, reshape, shuffle\n",
    "m = 60000\n",
    "m_test = X.shape[0] - m\n",
    "X_train, X_test = X[:m].T, X[m:].T\n",
    "Y_train, Y_test = Y_new[:,:m], Y_new[:,m:]\n",
    "shuffle_index = np.random.permutation(m)\n",
    "X_train, Y_train = X_train[:, shuffle_index], Y_train[:, shuffle_index]"
   ]
  },
  {
   "cell_type": "code",
   "execution_count": 7,
   "metadata": {
    "colab": {
     "base_uri": "https://localhost:8080/"
    },
    "executionInfo": {
     "elapsed": 320,
     "status": "ok",
     "timestamp": 1606665413478,
     "user": {
      "displayName": "Nguyen tuan anh",
      "photoUrl": "",
      "userId": "09926655917568751670"
     },
     "user_tz": 360
    },
    "id": "Zl8DaBPEhGC9",
    "outputId": "0881dc59-1ccc-4d4c-ed2a-76f5450de4b1"
   },
   "outputs": [
    {
     "name": "stdout",
     "output_type": "stream",
     "text": [
      "(784, 60000)\n",
      "(10, 60000)\n"
     ]
    }
   ],
   "source": [
    "print(np.shape(X_train))\n",
    "print(np.shape(Y_train))"
   ]
  },
  {
   "cell_type": "code",
   "execution_count": 19,
   "metadata": {
    "colab": {
     "base_uri": "https://localhost:8080/"
    },
    "executionInfo": {
     "elapsed": 557463,
     "status": "ok",
     "timestamp": 1606665973255,
     "user": {
      "displayName": "Nguyen tuan anh",
      "photoUrl": "",
      "userId": "09926655917568751670"
     },
     "user_tz": 360
    },
    "id": "J1Jn7oHOhGC-",
    "outputId": "de339160-4e37-41e0-9420-63fa3f9c1430"
   },
   "outputs": [
    {
     "name": "stdout",
     "output_type": "stream",
     "text": [
      "accuracy score after epoch 10: 0.921867\n",
      "=============\n",
      "accuracy score after epoch 20: 0.946300\n",
      "=============\n",
      "accuracy score after epoch 30: 0.953100\n",
      "=============\n",
      "accuracy score after epoch 40: 0.957417\n",
      "=============\n",
      "accuracy score after epoch 50: 0.959500\n",
      "=============\n",
      "accuracy score after epoch 60: 0.961433\n",
      "=============\n",
      "accuracy score after epoch 70: 0.962100\n",
      "=============\n",
      "accuracy score after epoch 80: 0.961050\n",
      "=============\n",
      "accuracy score after epoch 90: 0.962317\n",
      "=============\n",
      "accuracy score after epoch 100: 0.962867\n",
      "=============\n"
     ]
    }
   ],
   "source": [
    "layer_dims = [784, 200,100,50, 10]\n",
    "\n",
    "parameters = L_layer_model(X_train, Y_train, layer_dims, 0.5, 100, True, 256)"
   ]
  },
  {
   "cell_type": "code",
   "execution_count": 65,
   "metadata": {
    "colab": {
     "base_uri": "https://localhost:8080/",
     "height": 414
    },
    "executionInfo": {
     "elapsed": 2530,
     "status": "ok",
     "timestamp": 1606669939261,
     "user": {
      "displayName": "Nguyen tuan anh",
      "photoUrl": "",
      "userId": "09926655917568751670"
     },
     "user_tz": 360
    },
    "id": "hG4xY5Jz4c7l",
    "outputId": "1e315b3b-8723-4eca-fbbb-79ceb93e2efc"
   },
   "outputs": [
    {
     "data": {
      "image/png": "[encoded data removed]",
      "text/plain": [
       "<Figure size 720x432 with 2 Axes>"
      ]
     },
     "metadata": {},
     "output_type": "display_data"
    }
   ],
   "source": [
    "show_confuse_matrix(X_train, Y_train, parameters)"
   ]
  },
  {
   "cell_type": "code",
   "execution_count": 66,
   "metadata": {
    "colab": {
     "base_uri": "https://localhost:8080/"
    },
    "executionInfo": {
     "elapsed": 710,
     "status": "ok",
     "timestamp": 1606666037760,
     "user": {
      "displayName": "Nguyen tuan anh",
      "photoUrl": "",
      "userId": "09926655917568751670"
     },
     "user_tz": 360
    },
    "id": "CyWCvyOihGC-",
    "outputId": "ea132b41-480b-4d03-9bdd-cd800d643c43"
   },
   "outputs": [
    {
     "data": {
      "text/plain": [
       "0.9595"
      ]
     },
     "execution_count": 66,
     "metadata": {},
     "output_type": "execute_result"
    }
   ],
   "source": [
    "predict_train_accuracy(X_test, Y_test, parameters)"
   ]
  },
  {
   "cell_type": "code",
   "execution_count": 67,
   "metadata": {
    "colab": {
     "base_uri": "https://localhost:8080/"
    },
    "executionInfo": {
     "elapsed": 289,
     "status": "ok",
     "timestamp": 1606670214046,
     "user": {
      "displayName": "Nguyen tuan anh",
      "photoUrl": "",
      "userId": "09926655917568751670"
     },
     "user_tz": 360
    },
    "id": "YAkfz0yZvWZv",
    "outputId": "2422ba3c-81a0-4e37-c7f6-46a9167b9f57"
   },
   "outputs": [
    {
     "data": {
      "text/plain": [
       "(784,)"
      ]
     },
     "execution_count": 67,
     "metadata": {},
     "output_type": "execute_result"
    }
   ],
   "source": [
    "X_test[:,5].shape"
   ]
  },
  {
   "cell_type": "code",
   "execution_count": 68,
   "metadata": {
    "colab": {
     "base_uri": "https://localhost:8080/"
    },
    "executionInfo": {
     "elapsed": 353,
     "status": "ok",
     "timestamp": 1606670782856,
     "user": {
      "displayName": "Nguyen tuan anh",
      "photoUrl": "",
      "userId": "09926655917568751670"
     },
     "user_tz": 360
    },
    "id": "eDxTLCPYCitM",
    "outputId": "5ac246b8-8099-401a-9d18-e5f865406d84"
   },
   "outputs": [
    {
     "data": {
      "text/plain": [
       "(784, 1)"
      ]
     },
     "execution_count": 68,
     "metadata": {},
     "output_type": "execute_result"
    }
   ],
   "source": [
    "X_test[:,5].reshape(784, 1).shape"
   ]
  },
  {
   "cell_type": "code",
   "execution_count": 69,
   "metadata": {
    "colab": {
     "base_uri": "https://localhost:8080/"
    },
    "executionInfo": {
     "elapsed": 246,
     "status": "ok",
     "timestamp": 1606670873082,
     "user": {
      "displayName": "Nguyen tuan anh",
      "photoUrl": "",
      "userId": "09926655917568751670"
     },
     "user_tz": 360
    },
    "id": "S0bRgyaUzP8F",
    "outputId": "7a6cf358-9e54-40dc-91b7-19913349a997"
   },
   "outputs": [
    {
     "name": "stdout",
     "output_type": "stream",
     "text": [
      "10\n"
     ]
    },
    {
     "data": {
      "text/plain": [
       "array([[2.12019357e-07],\n",
       "       [9.84301022e-01],\n",
       "       [3.54022023e-03],\n",
       "       [3.24372468e-03],\n",
       "       [8.28961738e-03],\n",
       "       [3.02211021e-03],\n",
       "       [8.24275788e-04],\n",
       "       [2.33992250e-02],\n",
       "       [2.08130239e-03],\n",
       "       [1.09066704e-03]])"
      ]
     },
     "execution_count": 69,
     "metadata": {},
     "output_type": "execute_result"
    }
   ],
   "source": [
    "print(len(L_model_forward(X_test[:,5].reshape(784, 1), parameters)[0]))\n",
    "L_model_forward(X_test[:,5].reshape(784, 1), parameters)[0]"
   ]
  },
  {
   "cell_type": "code",
   "execution_count": 70,
   "metadata": {
    "colab": {
     "base_uri": "https://localhost:8080/"
    },
    "executionInfo": {
     "elapsed": 262,
     "status": "ok",
     "timestamp": 1606671156309,
     "user": {
      "displayName": "Nguyen tuan anh",
      "photoUrl": "",
      "userId": "09926655917568751670"
     },
     "user_tz": 360
    },
    "id": "szLFXV2GhE0j",
    "outputId": "11fa3ec8-304d-40ed-f11e-8f8a07bcc6e3"
   },
   "outputs": [
    {
     "name": "stdout",
     "output_type": "stream",
     "text": [
      "1\n",
      "1\n"
     ]
    }
   ],
   "source": [
    "print(np.argmax(L_model_forward(X_test[:,5].reshape(784, 1), parameters)[0]))\n",
    "print(np.argmax(Y_test[:,5],axis=0))"
   ]
  },
  {
   "cell_type": "code",
   "execution_count": 75,
   "metadata": {
    "executionInfo": {
     "elapsed": 271,
     "status": "ok",
     "timestamp": 1606675070653,
     "user": {
      "displayName": "Nguyen tuan anh",
      "photoUrl": "",
      "userId": "09926655917568751670"
     },
     "user_tz": 360
    },
    "id": "SKAUM5BEEFPp"
   },
   "outputs": [],
   "source": [
    "def predict_number(x,parameters):\n",
    "    return np.argmax(L_model_forward(x.reshape(784, 1), parameters)[0])\n",
    "def check_predict(x, y, i,parameters):\n",
    "    print(\"Predicted number is %i and Actual number is %i\" %(predict_number(x[:,i], parameters),\n",
    "                                                             np.argmax(y[:,i],axis=0)))"
   ]
  },
  {
   "cell_type": "markdown",
   "metadata": {},
   "source": [
    "# We pick ramdomly number to test model"
   ]
  },
  {
   "cell_type": "code",
   "execution_count": 78,
   "metadata": {
    "colab": {
     "base_uri": "https://localhost:8080/",
     "height": 316
    },
    "executionInfo": {
     "elapsed": 650,
     "status": "ok",
     "timestamp": 1606680140422,
     "user": {
      "displayName": "Nguyen tuan anh",
      "photoUrl": "",
      "userId": "09926655917568751670"
     },
     "user_tz": 360
    },
    "id": "Z_aapW1HFkp0",
    "outputId": "5c52fef0-99a0-40cc-f861-9f32d9db0d3d"
   },
   "outputs": [
    {
     "name": "stdout",
     "output_type": "stream",
     "text": [
      "Predicted number is 3 and Actual number is 3\n"
     ]
    },
    {
     "data": {
      "text/plain": [
       "<matplotlib.image.AxesImage at 0x7fadd9f2c390>"
      ]
     },
     "execution_count": 78,
     "metadata": {},
     "output_type": "execute_result"
    },
    {
     "data": {
      "image/png": "[encoded data removed]",
      "text/plain": [
       "<Figure size 432x288 with 1 Axes>"
      ]
     },
     "metadata": {},
     "output_type": "display_data"
    }
   ],
   "source": [
    "random=np.random.randint(0,10000,1).item()\n",
    "check_predict(X_test, Y_test, random,parameters)\n",
    "plt.imshow(X_test[:,random].reshape(28,28), cmap = matplotlib.cm.binary)"
   ]
  },
  {
   "cell_type": "code",
   "execution_count": 79,
   "metadata": {},
   "outputs": [
    {
     "name": "stdout",
     "output_type": "stream",
     "text": [
      "Predicted number is 6 and Actual number is 6\n"
     ]
    },
    {
     "data": {
      "text/plain": [
       "<matplotlib.image.AxesImage at 0x7fadd9e2b150>"
      ]
     },
     "execution_count": 79,
     "metadata": {},
     "output_type": "execute_result"
    },
    {
     "data": {
      "image/png": "[encoded data removed]",
      "text/plain": [
       "<Figure size 432x288 with 1 Axes>"
      ]
     },
     "metadata": {},
     "output_type": "display_data"
    }
   ],
   "source": [
    "random=np.random.randint(0,10000,1).item()\n",
    "check_predict(X_test, Y_test, random,parameters)\n",
    "plt.imshow(X_test[:,random].reshape(28,28), cmap = matplotlib.cm.binary)"
   ]
  },
  {
   "cell_type": "code",
   "execution_count": 80,
   "metadata": {},
   "outputs": [
    {
     "name": "stdout",
     "output_type": "stream",
     "text": [
      "Predicted number is 7 and Actual number is 7\n"
     ]
    },
    {
     "data": {
      "text/plain": [
       "<matplotlib.image.AxesImage at 0x7faeb09c5c50>"
      ]
     },
     "execution_count": 80,
     "metadata": {},
     "output_type": "execute_result"
    },
    {
     "data": {
      "image/png": "[encoded data removed]",
      "text/plain": [
       "<Figure size 432x288 with 1 Axes>"
      ]
     },
     "metadata": {},
     "output_type": "display_data"
    }
   ],
   "source": [
    "random=np.random.randint(0,10000,1).item()\n",
    "check_predict(X_test, Y_test, random,parameters)\n",
    "plt.imshow(X_test[:,random].reshape(28,28), cmap = matplotlib.cm.binary)"
   ]
  }
 ],
 "metadata": {
  "colab": {
   "name": "neural_network_v3 .ipynb",
   "provenance": []
  },
  "kernelspec": {
   "display_name": "Python 3",
   "language": "python",
   "name": "python3"
  },
  "language_info": {
   "codemirror_mode": {
    "name": "ipython",
    "version": 3
   },
   "file_extension": ".py",
   "mimetype": "text/x-python",
   "name": "python",
   "nbconvert_exporter": "python",
   "pygments_lexer": "ipython3",
   "version": "3.7.4"
  }
 },
 "nbformat": 4,
 "nbformat_minor": 1
}
